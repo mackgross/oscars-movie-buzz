{
 "cells": [
  {
   "cell_type": "markdown",
   "id": "18df0c5d",
   "metadata": {},
   "source": [
    "# Cleaning Oscars Awards Data\n",
    "**Author:** Mackenzie Ross\n",
    "\n",
    "**Date Last Modified:** 31 March 2023\n",
    "\n",
    "**Description:** Preparing the Oscars awards dataset to be used in a SQL database"
   ]
  },
  {
   "cell_type": "markdown",
   "id": "bd28b12b",
   "metadata": {},
   "source": [
    "## Import Necessary Libraries"
   ]
  },
  {
   "cell_type": "code",
   "execution_count": 1,
   "id": "8b346b69",
   "metadata": {},
   "outputs": [],
   "source": [
    "import pandas as pd\n",
    "import numpy as np"
   ]
  },
  {
   "cell_type": "markdown",
   "id": "d680fd33",
   "metadata": {},
   "source": [
    "## Load and Preview Dataset"
   ]
  },
  {
   "cell_type": "code",
   "execution_count": 2,
   "id": "1bdf5252",
   "metadata": {},
   "outputs": [
    {
     "data": {
      "text/html": [
       "<div>\n",
       "<style scoped>\n",
       "    .dataframe tbody tr th:only-of-type {\n",
       "        vertical-align: middle;\n",
       "    }\n",
       "\n",
       "    .dataframe tbody tr th {\n",
       "        vertical-align: top;\n",
       "    }\n",
       "\n",
       "    .dataframe thead th {\n",
       "        text-align: right;\n",
       "    }\n",
       "</style>\n",
       "<table border=\"1\" class=\"dataframe\">\n",
       "  <thead>\n",
       "    <tr style=\"text-align: right;\">\n",
       "      <th></th>\n",
       "      <th>year_film</th>\n",
       "      <th>year_ceremony</th>\n",
       "      <th>ceremony</th>\n",
       "      <th>category</th>\n",
       "      <th>name</th>\n",
       "      <th>film</th>\n",
       "      <th>winner</th>\n",
       "    </tr>\n",
       "  </thead>\n",
       "  <tbody>\n",
       "    <tr>\n",
       "      <th>0</th>\n",
       "      <td>1927</td>\n",
       "      <td>1928</td>\n",
       "      <td>1</td>\n",
       "      <td>ACTOR</td>\n",
       "      <td>Richard Barthelmess</td>\n",
       "      <td>The Noose</td>\n",
       "      <td>False</td>\n",
       "    </tr>\n",
       "    <tr>\n",
       "      <th>1</th>\n",
       "      <td>1927</td>\n",
       "      <td>1928</td>\n",
       "      <td>1</td>\n",
       "      <td>ACTOR</td>\n",
       "      <td>Emil Jannings</td>\n",
       "      <td>The Last Command</td>\n",
       "      <td>True</td>\n",
       "    </tr>\n",
       "    <tr>\n",
       "      <th>2</th>\n",
       "      <td>1927</td>\n",
       "      <td>1928</td>\n",
       "      <td>1</td>\n",
       "      <td>ACTRESS</td>\n",
       "      <td>Louise Dresser</td>\n",
       "      <td>A Ship Comes In</td>\n",
       "      <td>False</td>\n",
       "    </tr>\n",
       "    <tr>\n",
       "      <th>3</th>\n",
       "      <td>1927</td>\n",
       "      <td>1928</td>\n",
       "      <td>1</td>\n",
       "      <td>ACTRESS</td>\n",
       "      <td>Janet Gaynor</td>\n",
       "      <td>7th Heaven</td>\n",
       "      <td>True</td>\n",
       "    </tr>\n",
       "    <tr>\n",
       "      <th>4</th>\n",
       "      <td>1927</td>\n",
       "      <td>1928</td>\n",
       "      <td>1</td>\n",
       "      <td>ACTRESS</td>\n",
       "      <td>Gloria Swanson</td>\n",
       "      <td>Sadie Thompson</td>\n",
       "      <td>False</td>\n",
       "    </tr>\n",
       "  </tbody>\n",
       "</table>\n",
       "</div>"
      ],
      "text/plain": [
       "   year_film  year_ceremony  ceremony category                 name  \\\n",
       "0       1927           1928         1    ACTOR  Richard Barthelmess   \n",
       "1       1927           1928         1    ACTOR        Emil Jannings   \n",
       "2       1927           1928         1  ACTRESS       Louise Dresser   \n",
       "3       1927           1928         1  ACTRESS         Janet Gaynor   \n",
       "4       1927           1928         1  ACTRESS       Gloria Swanson   \n",
       "\n",
       "               film  winner  \n",
       "0         The Noose   False  \n",
       "1  The Last Command    True  \n",
       "2   A Ship Comes In   False  \n",
       "3        7th Heaven    True  \n",
       "4    Sadie Thompson   False  "
      ]
     },
     "execution_count": 2,
     "metadata": {},
     "output_type": "execute_result"
    }
   ],
   "source": [
    "df = pd.read_csv('raw_oscars_data.csv')\n",
    "df.head()"
   ]
  },
  {
   "cell_type": "code",
   "execution_count": 3,
   "id": "98d61e28",
   "metadata": {},
   "outputs": [
    {
     "name": "stdout",
     "output_type": "stream",
     "text": [
      "<class 'pandas.core.frame.DataFrame'>\n",
      "RangeIndex: 10765 entries, 0 to 10764\n",
      "Data columns (total 7 columns):\n",
      " #   Column         Non-Null Count  Dtype \n",
      "---  ------         --------------  ----- \n",
      " 0   year_film      10765 non-null  int64 \n",
      " 1   year_ceremony  10765 non-null  int64 \n",
      " 2   ceremony       10765 non-null  int64 \n",
      " 3   category       10765 non-null  object\n",
      " 4   name           10761 non-null  object\n",
      " 5   film           10450 non-null  object\n",
      " 6   winner         10765 non-null  bool  \n",
      "dtypes: bool(1), int64(3), object(3)\n",
      "memory usage: 515.2+ KB\n"
     ]
    }
   ],
   "source": [
    "df.info()"
   ]
  },
  {
   "cell_type": "markdown",
   "id": "31f535a2",
   "metadata": {},
   "source": [
    "## Investigate Null Values"
   ]
  },
  {
   "cell_type": "code",
   "execution_count": 4,
   "id": "24a68f1d",
   "metadata": {},
   "outputs": [
    {
     "data": {
      "text/html": [
       "<div>\n",
       "<style scoped>\n",
       "    .dataframe tbody tr th:only-of-type {\n",
       "        vertical-align: middle;\n",
       "    }\n",
       "\n",
       "    .dataframe tbody tr th {\n",
       "        vertical-align: top;\n",
       "    }\n",
       "\n",
       "    .dataframe thead th {\n",
       "        text-align: right;\n",
       "    }\n",
       "</style>\n",
       "<table border=\"1\" class=\"dataframe\">\n",
       "  <thead>\n",
       "    <tr style=\"text-align: right;\">\n",
       "      <th></th>\n",
       "      <th>year_film</th>\n",
       "      <th>year_ceremony</th>\n",
       "      <th>ceremony</th>\n",
       "      <th>category</th>\n",
       "      <th>name</th>\n",
       "      <th>film</th>\n",
       "      <th>winner</th>\n",
       "    </tr>\n",
       "  </thead>\n",
       "  <tbody>\n",
       "    <tr>\n",
       "      <th>10513</th>\n",
       "      <td>2020</td>\n",
       "      <td>2021</td>\n",
       "      <td>93</td>\n",
       "      <td>JEAN HERSHOLT HUMANITARIAN AWARD</td>\n",
       "      <td>NaN</td>\n",
       "      <td>NaN</td>\n",
       "      <td>True</td>\n",
       "    </tr>\n",
       "    <tr>\n",
       "      <th>10514</th>\n",
       "      <td>2020</td>\n",
       "      <td>2021</td>\n",
       "      <td>93</td>\n",
       "      <td>JEAN HERSHOLT HUMANITARIAN AWARD</td>\n",
       "      <td>NaN</td>\n",
       "      <td>NaN</td>\n",
       "      <td>True</td>\n",
       "    </tr>\n",
       "    <tr>\n",
       "      <th>10635</th>\n",
       "      <td>2021</td>\n",
       "      <td>2022</td>\n",
       "      <td>94</td>\n",
       "      <td>JEAN HERSHOLT HUMANITARIAN AWARD</td>\n",
       "      <td>NaN</td>\n",
       "      <td>NaN</td>\n",
       "      <td>True</td>\n",
       "    </tr>\n",
       "    <tr>\n",
       "      <th>10759</th>\n",
       "      <td>2022</td>\n",
       "      <td>2023</td>\n",
       "      <td>95</td>\n",
       "      <td>JEAN HERSHOLT HUMANITARIAN AWARD</td>\n",
       "      <td>NaN</td>\n",
       "      <td>NaN</td>\n",
       "      <td>True</td>\n",
       "    </tr>\n",
       "  </tbody>\n",
       "</table>\n",
       "</div>"
      ],
      "text/plain": [
       "       year_film  year_ceremony  ceremony                          category  \\\n",
       "10513       2020           2021        93  JEAN HERSHOLT HUMANITARIAN AWARD   \n",
       "10514       2020           2021        93  JEAN HERSHOLT HUMANITARIAN AWARD   \n",
       "10635       2021           2022        94  JEAN HERSHOLT HUMANITARIAN AWARD   \n",
       "10759       2022           2023        95  JEAN HERSHOLT HUMANITARIAN AWARD   \n",
       "\n",
       "      name film  winner  \n",
       "10513  NaN  NaN    True  \n",
       "10514  NaN  NaN    True  \n",
       "10635  NaN  NaN    True  \n",
       "10759  NaN  NaN    True  "
      ]
     },
     "execution_count": 4,
     "metadata": {},
     "output_type": "execute_result"
    }
   ],
   "source": [
    "# print number of rows with null name value\n",
    "missing_names = pd.isnull(df['name'])\n",
    "df[missing_names]"
   ]
  },
  {
   "cell_type": "code",
   "execution_count": 5,
   "id": "24f4f13c",
   "metadata": {},
   "outputs": [
    {
     "data": {
      "text/html": [
       "<div>\n",
       "<style scoped>\n",
       "    .dataframe tbody tr th:only-of-type {\n",
       "        vertical-align: middle;\n",
       "    }\n",
       "\n",
       "    .dataframe tbody tr th {\n",
       "        vertical-align: top;\n",
       "    }\n",
       "\n",
       "    .dataframe thead th {\n",
       "        text-align: right;\n",
       "    }\n",
       "</style>\n",
       "<table border=\"1\" class=\"dataframe\">\n",
       "  <thead>\n",
       "    <tr style=\"text-align: right;\">\n",
       "      <th></th>\n",
       "      <th>year_film</th>\n",
       "      <th>year_ceremony</th>\n",
       "      <th>ceremony</th>\n",
       "      <th>category</th>\n",
       "      <th>name</th>\n",
       "      <th>film</th>\n",
       "      <th>winner</th>\n",
       "    </tr>\n",
       "  </thead>\n",
       "  <tbody>\n",
       "    <tr>\n",
       "      <th>16</th>\n",
       "      <td>1927</td>\n",
       "      <td>1928</td>\n",
       "      <td>1</td>\n",
       "      <td>ENGINEERING EFFECTS</td>\n",
       "      <td>Ralph Hammeras</td>\n",
       "      <td>NaN</td>\n",
       "      <td>False</td>\n",
       "    </tr>\n",
       "    <tr>\n",
       "      <th>18</th>\n",
       "      <td>1927</td>\n",
       "      <td>1928</td>\n",
       "      <td>1</td>\n",
       "      <td>ENGINEERING EFFECTS</td>\n",
       "      <td>Nugent Slaughter</td>\n",
       "      <td>NaN</td>\n",
       "      <td>False</td>\n",
       "    </tr>\n",
       "    <tr>\n",
       "      <th>31</th>\n",
       "      <td>1927</td>\n",
       "      <td>1928</td>\n",
       "      <td>1</td>\n",
       "      <td>WRITING (Title Writing)</td>\n",
       "      <td>Joseph Farnham</td>\n",
       "      <td>NaN</td>\n",
       "      <td>True</td>\n",
       "    </tr>\n",
       "    <tr>\n",
       "      <th>32</th>\n",
       "      <td>1927</td>\n",
       "      <td>1928</td>\n",
       "      <td>1</td>\n",
       "      <td>WRITING (Title Writing)</td>\n",
       "      <td>George Marion, Jr.</td>\n",
       "      <td>NaN</td>\n",
       "      <td>False</td>\n",
       "    </tr>\n",
       "    <tr>\n",
       "      <th>33</th>\n",
       "      <td>1927</td>\n",
       "      <td>1928</td>\n",
       "      <td>1</td>\n",
       "      <td>SPECIAL AWARD</td>\n",
       "      <td>Warner Bros.</td>\n",
       "      <td>NaN</td>\n",
       "      <td>True</td>\n",
       "    </tr>\n",
       "    <tr>\n",
       "      <th>...</th>\n",
       "      <td>...</td>\n",
       "      <td>...</td>\n",
       "      <td>...</td>\n",
       "      <td>...</td>\n",
       "      <td>...</td>\n",
       "      <td>...</td>\n",
       "      <td>...</td>\n",
       "    </tr>\n",
       "    <tr>\n",
       "      <th>10759</th>\n",
       "      <td>2022</td>\n",
       "      <td>2023</td>\n",
       "      <td>95</td>\n",
       "      <td>JEAN HERSHOLT HUMANITARIAN AWARD</td>\n",
       "      <td>NaN</td>\n",
       "      <td>NaN</td>\n",
       "      <td>True</td>\n",
       "    </tr>\n",
       "    <tr>\n",
       "      <th>10760</th>\n",
       "      <td>2022</td>\n",
       "      <td>2023</td>\n",
       "      <td>95</td>\n",
       "      <td>HONORARY AWARD</td>\n",
       "      <td>To Euzhan Palcy, a masterful filmmaker who bro...</td>\n",
       "      <td>NaN</td>\n",
       "      <td>True</td>\n",
       "    </tr>\n",
       "    <tr>\n",
       "      <th>10761</th>\n",
       "      <td>2022</td>\n",
       "      <td>2023</td>\n",
       "      <td>95</td>\n",
       "      <td>HONORARY AWARD</td>\n",
       "      <td>To Diane Warren, for her genius, generosity an...</td>\n",
       "      <td>NaN</td>\n",
       "      <td>True</td>\n",
       "    </tr>\n",
       "    <tr>\n",
       "      <th>10762</th>\n",
       "      <td>2022</td>\n",
       "      <td>2023</td>\n",
       "      <td>95</td>\n",
       "      <td>HONORARY AWARD</td>\n",
       "      <td>To Peter Weir, a fearless and consummate filmm...</td>\n",
       "      <td>NaN</td>\n",
       "      <td>True</td>\n",
       "    </tr>\n",
       "    <tr>\n",
       "      <th>10763</th>\n",
       "      <td>2022</td>\n",
       "      <td>2023</td>\n",
       "      <td>95</td>\n",
       "      <td>GORDON E. SAWYER AWARD</td>\n",
       "      <td>Iain Neil</td>\n",
       "      <td>NaN</td>\n",
       "      <td>True</td>\n",
       "    </tr>\n",
       "  </tbody>\n",
       "</table>\n",
       "<p>315 rows × 7 columns</p>\n",
       "</div>"
      ],
      "text/plain": [
       "       year_film  year_ceremony  ceremony                          category  \\\n",
       "16          1927           1928         1               ENGINEERING EFFECTS   \n",
       "18          1927           1928         1               ENGINEERING EFFECTS   \n",
       "31          1927           1928         1           WRITING (Title Writing)   \n",
       "32          1927           1928         1           WRITING (Title Writing)   \n",
       "33          1927           1928         1                     SPECIAL AWARD   \n",
       "...          ...            ...       ...                               ...   \n",
       "10759       2022           2023        95  JEAN HERSHOLT HUMANITARIAN AWARD   \n",
       "10760       2022           2023        95                    HONORARY AWARD   \n",
       "10761       2022           2023        95                    HONORARY AWARD   \n",
       "10762       2022           2023        95                    HONORARY AWARD   \n",
       "10763       2022           2023        95            GORDON E. SAWYER AWARD   \n",
       "\n",
       "                                                    name film  winner  \n",
       "16                                        Ralph Hammeras  NaN   False  \n",
       "18                                      Nugent Slaughter  NaN   False  \n",
       "31                                        Joseph Farnham  NaN    True  \n",
       "32                                    George Marion, Jr.  NaN   False  \n",
       "33                                          Warner Bros.  NaN    True  \n",
       "...                                                  ...  ...     ...  \n",
       "10759                                                NaN  NaN    True  \n",
       "10760  To Euzhan Palcy, a masterful filmmaker who bro...  NaN    True  \n",
       "10761  To Diane Warren, for her genius, generosity an...  NaN    True  \n",
       "10762  To Peter Weir, a fearless and consummate filmm...  NaN    True  \n",
       "10763                                          Iain Neil  NaN    True  \n",
       "\n",
       "[315 rows x 7 columns]"
      ]
     },
     "execution_count": 5,
     "metadata": {},
     "output_type": "execute_result"
    }
   ],
   "source": [
    "# print number of rows with null film value\n",
    "missing_film = pd.isnull(df['film'])\n",
    "df[missing_film]"
   ]
  },
  {
   "cell_type": "markdown",
   "id": "6060a475",
   "metadata": {},
   "source": [
    "There are 4 rows missing with a NULL value in name and 315 rows with a null value in film. The rows missing a film title are primarily defunt and honorary awards. We will drop all the rows with a null value. All of the rows with missing names are also missing the film title."
   ]
  },
  {
   "cell_type": "code",
   "execution_count": 6,
   "id": "e7b41c80",
   "metadata": {},
   "outputs": [
    {
     "name": "stdout",
     "output_type": "stream",
     "text": [
      "Old data frame length: 10765 \n",
      "New data frame length: 10450 \n",
      "Number of rows with at least 1 NA value: \n"
     ]
    }
   ],
   "source": [
    "# drop rows with NULL value\n",
    "df1 = df.dropna(axis = 0, how ='any').copy()\n",
    "\n",
    "# comparing sizes of data frames\n",
    "print(\"Old data frame length:\", len(df), \"\\nNew data frame length:\",\n",
    "\tlen(df1), \"\\nNumber of rows with at least 1 NA value: \")"
   ]
  },
  {
   "cell_type": "markdown",
   "id": "bdfb778b",
   "metadata": {},
   "source": [
    "## Refine nomination categories"
   ]
  },
  {
   "cell_type": "code",
   "execution_count": 7,
   "id": "63f686cd",
   "metadata": {},
   "outputs": [],
   "source": [
    "# change category names to lower case\n",
    "df1['category'] = [word.lower() for word in df1['category']]"
   ]
  },
  {
   "cell_type": "code",
   "execution_count": 8,
   "id": "00072d3c",
   "metadata": {},
   "outputs": [
    {
     "data": {
      "text/plain": [
       "directing                       464\n",
       "film editing                    445\n",
       "actress in a supporting role    435\n",
       "actor in a supporting role      435\n",
       "documentary (short subject)     378\n",
       "best picture                    361\n",
       "documentary (feature)           345\n",
       "cinematography                  333\n",
       "foreign language film           315\n",
       "art direction                   307\n",
       "costume design                  290\n",
       "music (original score)          265\n",
       "sound                           240\n",
       "actress                         236\n",
       "actress in a leading role       235\n",
       "actor in a leading role         235\n",
       "actor                           232\n",
       "music (original song)           230\n",
       "short film (live action)        221\n",
       "music (song)                    215\n",
       "Name: category, dtype: int64"
      ]
     },
     "execution_count": 8,
     "metadata": {},
     "output_type": "execute_result"
    }
   ],
   "source": [
    "# get unique nomination categories\n",
    "df1['category'].value_counts(ascending = False).head(20)"
   ]
  },
  {
   "cell_type": "markdown",
   "id": "602e4cd6",
   "metadata": {},
   "source": [
    "Special Achievement Awards and Awards of Commendation are not given out annually, so we want to drop those rows."
   ]
  },
  {
   "cell_type": "code",
   "execution_count": 9,
   "id": "fcd78429",
   "metadata": {},
   "outputs": [],
   "source": [
    "df2 = df1[df1['category'].str.contains('special achievement|award') == False].copy()"
   ]
  },
  {
   "cell_type": "markdown",
   "id": "dfe5b3f9",
   "metadata": {},
   "source": [
    "## Clean data"
   ]
  },
  {
   "cell_type": "code",
   "execution_count": 10,
   "id": "d41181be",
   "metadata": {},
   "outputs": [],
   "source": [
    "# remove unnecessary parentheses from cells in name column\n",
    "df2['name'] = df2['name'].str.replace(r'[()]','', regex=True)"
   ]
  },
  {
   "cell_type": "code",
   "execution_count": 11,
   "id": "924389c3",
   "metadata": {},
   "outputs": [],
   "source": [
    "# remove unnecessary semicolons from cells in film column\n",
    "df2['film'] = df2['film'].str.replace(';','', regex=True)"
   ]
  },
  {
   "cell_type": "code",
   "execution_count": 12,
   "id": "6874637d",
   "metadata": {},
   "outputs": [
    {
     "name": "stdout",
     "output_type": "stream",
     "text": [
      "New length of data frame: 17750\n"
     ]
    }
   ],
   "source": [
    "# split cells that have multiple values in the name column (some have commas, some have semi-colons)\n",
    "df3 = df2.set_index(['year_film', 'year_ceremony', 'ceremony', 'category', 'film', 'winner']).apply(lambda x: x.str.split(',').explode()).reset_index()\n",
    "df4 = df3.set_index(['year_film', 'year_ceremony', 'ceremony', 'category', 'film', 'winner']).apply(lambda x: x.str.split(';').explode()).reset_index()\n",
    "df5 = df4.set_index(['year_film', 'year_ceremony', 'ceremony', 'category', 'film', 'winner']).apply(lambda x: x.str.split('&').explode()).reset_index()\n",
    "df6 = df5.set_index(['year_film', 'year_ceremony', 'ceremony', 'category', 'film', 'winner']).apply(lambda x: x.str.split(' and ').explode()).reset_index()\n",
    "# remove leading/trailing whitespace\n",
    "df6['name'] = df6['name'].str.strip()\n",
    "\n",
    "print('New length of data frame:', len(df6))"
   ]
  },
  {
   "cell_type": "markdown",
   "id": "d59034b4",
   "metadata": {},
   "source": [
    "Some names are listed with their person's title listed after their name, so we need to identify these titles an remove those rows from the data frame."
   ]
  },
  {
   "cell_type": "code",
   "execution_count": 13,
   "id": "ae0f1b4a",
   "metadata": {},
   "outputs": [
    {
     "data": {
      "text/plain": [
       "Producer                                       824\n",
       "Producers                                      428\n",
       "Sound Director                                 236\n",
       "Music                                          181\n",
       "Jr.                                             66\n",
       "Metro-Goldwyn-Mayer                             64\n",
       "Walt Disney                                     60\n",
       "John Williams                                   45\n",
       "Alfred Newman                                   43\n",
       "Warner Bros.                                    43\n",
       "France                                          38\n",
       "Edith Head                                      35\n",
       "Italy                                           29\n",
       "Art Direction:  Cedric Gibbons                  28\n",
       "Metro-Goldwyn-Mayer Studio Sound Department     26\n",
       "Name: name, dtype: int64"
      ]
     },
     "execution_count": 13,
     "metadata": {},
     "output_type": "execute_result"
    }
   ],
   "source": [
    "df6['name'].value_counts(ascending = False).head(15)"
   ]
  },
  {
   "cell_type": "code",
   "execution_count": 14,
   "id": "87bbbc54",
   "metadata": {},
   "outputs": [],
   "source": [
    "name_to_remove = ['Producer', 'Producers', 'Sound Director']"
   ]
  },
  {
   "cell_type": "code",
   "execution_count": 15,
   "id": "d2361dc6",
   "metadata": {},
   "outputs": [],
   "source": [
    "# remove specified columns\n",
    "df7 = df6[df6.name.isin(name_to_remove) == False].copy()"
   ]
  },
  {
   "cell_type": "code",
   "execution_count": 16,
   "id": "c7286bf1",
   "metadata": {},
   "outputs": [
    {
     "data": {
      "text/plain": [
       "Music                  181\n",
       "Jr.                     66\n",
       "Metro-Goldwyn-Mayer     64\n",
       "Walt Disney             60\n",
       "John Williams           45\n",
       "Name: name, dtype: int64"
      ]
     },
     "execution_count": 16,
     "metadata": {},
     "output_type": "execute_result"
    }
   ],
   "source": [
    "# check that names were removed\n",
    "df7['name'].value_counts(ascending = False).head()"
   ]
  },
  {
   "cell_type": "markdown",
   "id": "cf300574",
   "metadata": {},
   "source": [
    "Some columns start with position titles such as\"Art Direction:\", \"Lyrics by\", or \"Music by\". We want to remove this title from those cells and keep the person's name only."
   ]
  },
  {
   "cell_type": "code",
   "execution_count": 17,
   "id": "cdd0277e",
   "metadata": {},
   "outputs": [],
   "source": [
    "df7['name'] = df7['name'].str.replace('Art Direction:', '')\n",
    "df7['name'] = df7['name'].str.replace('Lyrics by', '')\n",
    "df7['name'] = df7['name'].str.replace('Music by', '')\n",
    "df7['name'] = df7['name'].str.replace('Written by', '')\n",
    "df7['name'] = df7['name'].str.replace('Story by', '')\n",
    "df7['name'] = df7['name'].str.replace('Score by', '')\n",
    "df7['name'] = df7['name'].str.replace('head of department', '')\n",
    "df7['name'] = df7['name'].str.replace('Lyric by', '')\n",
    "df7['name'] = df7['name'].str.replace('Screenplay by', '')\n",
    "df7['name'] = df7['name'].str.replace('Adaptation by', '')\n",
    "df7['name'] = df7['name'].str.replace('Written for the screen by', '')\n",
    "df7['name'] = df7['name'].str.replace('Original story by', '')\n",
    "df7['name'] = df7['name'].str.replace('Thematic', '')\n",
    "df7['name'] = df7['name'].str.strip()"
   ]
  },
  {
   "cell_type": "code",
   "execution_count": 18,
   "id": "e1f36036",
   "metadata": {},
   "outputs": [
    {
     "data": {
      "text/html": [
       "<div>\n",
       "<style scoped>\n",
       "    .dataframe tbody tr th:only-of-type {\n",
       "        vertical-align: middle;\n",
       "    }\n",
       "\n",
       "    .dataframe tbody tr th {\n",
       "        vertical-align: top;\n",
       "    }\n",
       "\n",
       "    .dataframe thead th {\n",
       "        text-align: right;\n",
       "    }\n",
       "</style>\n",
       "<table border=\"1\" class=\"dataframe\">\n",
       "  <thead>\n",
       "    <tr style=\"text-align: right;\">\n",
       "      <th></th>\n",
       "      <th>year_film</th>\n",
       "      <th>year_ceremony</th>\n",
       "      <th>ceremony</th>\n",
       "      <th>category</th>\n",
       "      <th>film</th>\n",
       "      <th>winner</th>\n",
       "      <th>name</th>\n",
       "    </tr>\n",
       "  </thead>\n",
       "  <tbody>\n",
       "    <tr>\n",
       "      <th>157</th>\n",
       "      <td>1930</td>\n",
       "      <td>1931</td>\n",
       "      <td>4</td>\n",
       "      <td>writing (adaptation)</td>\n",
       "      <td>The Criminal Code</td>\n",
       "      <td>False</td>\n",
       "      <td>Jr.</td>\n",
       "    </tr>\n",
       "    <tr>\n",
       "      <th>232</th>\n",
       "      <td>1932</td>\n",
       "      <td>1933</td>\n",
       "      <td>6</td>\n",
       "      <td>cinematography</td>\n",
       "      <td>A Farewell to Arms</td>\n",
       "      <td>True</td>\n",
       "      <td>Jr.</td>\n",
       "    </tr>\n",
       "    <tr>\n",
       "      <th>707</th>\n",
       "      <td>1937</td>\n",
       "      <td>1938</td>\n",
       "      <td>10</td>\n",
       "      <td>assistant director</td>\n",
       "      <td>Lost Horizon</td>\n",
       "      <td>False</td>\n",
       "      <td>Jr.</td>\n",
       "    </tr>\n",
       "    <tr>\n",
       "      <th>1284</th>\n",
       "      <td>1940</td>\n",
       "      <td>1941</td>\n",
       "      <td>13</td>\n",
       "      <td>cinematography (black-and-white)</td>\n",
       "      <td>Arise, My Love</td>\n",
       "      <td>False</td>\n",
       "      <td>Jr.</td>\n",
       "    </tr>\n",
       "    <tr>\n",
       "      <th>1839</th>\n",
       "      <td>1942</td>\n",
       "      <td>1943</td>\n",
       "      <td>15</td>\n",
       "      <td>documentary</td>\n",
       "      <td>Conquer by the Clock</td>\n",
       "      <td>False</td>\n",
       "      <td>Jr.</td>\n",
       "    </tr>\n",
       "    <tr>\n",
       "      <th>...</th>\n",
       "      <td>...</td>\n",
       "      <td>...</td>\n",
       "      <td>...</td>\n",
       "      <td>...</td>\n",
       "      <td>...</td>\n",
       "      <td>...</td>\n",
       "      <td>...</td>\n",
       "    </tr>\n",
       "    <tr>\n",
       "      <th>14398</th>\n",
       "      <td>2008</td>\n",
       "      <td>2009</td>\n",
       "      <td>81</td>\n",
       "      <td>makeup</td>\n",
       "      <td>The Dark Knight</td>\n",
       "      <td>False</td>\n",
       "      <td>Jr.</td>\n",
       "    </tr>\n",
       "    <tr>\n",
       "      <th>15814</th>\n",
       "      <td>2014</td>\n",
       "      <td>2015</td>\n",
       "      <td>87</td>\n",
       "      <td>writing (original screenplay)</td>\n",
       "      <td>Birdman or (The Unexpected Virtue of Ignorance)</td>\n",
       "      <td>True</td>\n",
       "      <td>Jr.</td>\n",
       "    </tr>\n",
       "    <tr>\n",
       "      <th>16446</th>\n",
       "      <td>2017</td>\n",
       "      <td>2018</td>\n",
       "      <td>90</td>\n",
       "      <td>short film (live action)</td>\n",
       "      <td>My Nephew Emmett</td>\n",
       "      <td>False</td>\n",
       "      <td>Jr.</td>\n",
       "    </tr>\n",
       "    <tr>\n",
       "      <th>16998</th>\n",
       "      <td>2020</td>\n",
       "      <td>2021</td>\n",
       "      <td>93</td>\n",
       "      <td>actor in a supporting role</td>\n",
       "      <td>One Night in Miami...</td>\n",
       "      <td>False</td>\n",
       "      <td>Jr.</td>\n",
       "    </tr>\n",
       "    <tr>\n",
       "      <th>17113</th>\n",
       "      <td>2020</td>\n",
       "      <td>2021</td>\n",
       "      <td>93</td>\n",
       "      <td>music (original song)</td>\n",
       "      <td>One Night in Miami...</td>\n",
       "      <td>False</td>\n",
       "      <td>Jr.</td>\n",
       "    </tr>\n",
       "  </tbody>\n",
       "</table>\n",
       "<p>66 rows × 7 columns</p>\n",
       "</div>"
      ],
      "text/plain": [
       "       year_film  year_ceremony  ceremony                          category  \\\n",
       "157         1930           1931         4              writing (adaptation)   \n",
       "232         1932           1933         6                    cinematography   \n",
       "707         1937           1938        10                assistant director   \n",
       "1284        1940           1941        13  cinematography (black-and-white)   \n",
       "1839        1942           1943        15                       documentary   \n",
       "...          ...            ...       ...                               ...   \n",
       "14398       2008           2009        81                            makeup   \n",
       "15814       2014           2015        87     writing (original screenplay)   \n",
       "16446       2017           2018        90          short film (live action)   \n",
       "16998       2020           2021        93        actor in a supporting role   \n",
       "17113       2020           2021        93             music (original song)   \n",
       "\n",
       "                                                  film  winner name  \n",
       "157                                  The Criminal Code   False  Jr.  \n",
       "232                                 A Farewell to Arms    True  Jr.  \n",
       "707                                       Lost Horizon   False  Jr.  \n",
       "1284                                    Arise, My Love   False  Jr.  \n",
       "1839                              Conquer by the Clock   False  Jr.  \n",
       "...                                                ...     ...  ...  \n",
       "14398                                  The Dark Knight   False  Jr.  \n",
       "15814  Birdman or (The Unexpected Virtue of Ignorance)    True  Jr.  \n",
       "16446                                 My Nephew Emmett   False  Jr.  \n",
       "16998                            One Night in Miami...   False  Jr.  \n",
       "17113                            One Night in Miami...   False  Jr.  \n",
       "\n",
       "[66 rows x 7 columns]"
      ]
     },
     "execution_count": 18,
     "metadata": {},
     "output_type": "execute_result"
    }
   ],
   "source": [
    "df7[df7['name'] == 'Jr.']"
   ]
  },
  {
   "cell_type": "markdown",
   "id": "66651fcd",
   "metadata": {},
   "source": [
    "Lastly, we want to reunite the \"Jr.\" suffixes that were separated from the names when we split the name column on commas."
   ]
  },
  {
   "cell_type": "code",
   "execution_count": 19,
   "id": "c133baf1",
   "metadata": {},
   "outputs": [
    {
     "name": "stdout",
     "output_type": "stream",
     "text": [
      "[157, 232, 707, 1284, 1839, 2029, 2251, 3062, 3086, 3230, 3704, 3951, 3962, 4289, 4302, 4369, 4700, 5043, 5145, 5335, 5529, 5723, 5954, 6102, 6118, 6150, 6165, 6248, 6254, 6622, 7025, 7109, 7541, 7620, 7666, 7765, 7925, 7960, 8391, 8398, 8476, 8669, 8937, 9174, 9357, 9378, 9488, 9529, 10008, 10081, 10084, 10513, 11102, 11347, 11519, 11529, 12023, 12081, 12112, 13281, 13494, 14398, 15814, 16446, 16998, 17113]\n"
     ]
    }
   ],
   "source": [
    "# get list of all rows with a Jr. value in the name column\n",
    "jr_list = df7.index[df7['name'] == 'Jr.'].tolist()\n",
    "print(jr_list)"
   ]
  },
  {
   "cell_type": "code",
   "execution_count": 20,
   "id": "5e86dd9d",
   "metadata": {},
   "outputs": [],
   "source": [
    "# append Jr. to appropriate name values\n",
    "for i in jr_list:\n",
    "    j = i - 1\n",
    "    df7.loc[j, 'name'] = df7.loc[j, 'name'] + ' Jr.'"
   ]
  },
  {
   "cell_type": "code",
   "execution_count": 21,
   "id": "9196c3e9",
   "metadata": {},
   "outputs": [],
   "source": [
    "# remove rows with just Jr. in name column\n",
    "oscars = df7.drop(jr_list)"
   ]
  },
  {
   "cell_type": "code",
   "execution_count": 22,
   "id": "28ac2021",
   "metadata": {},
   "outputs": [
    {
     "name": "stdout",
     "output_type": "stream",
     "text": [
      "<class 'pandas.core.frame.DataFrame'>\n",
      "Int64Index: 16196 entries, 0 to 17749\n",
      "Data columns (total 7 columns):\n",
      " #   Column         Non-Null Count  Dtype \n",
      "---  ------         --------------  ----- \n",
      " 0   year_film      16196 non-null  int64 \n",
      " 1   year_ceremony  16196 non-null  int64 \n",
      " 2   ceremony       16196 non-null  int64 \n",
      " 3   category       16196 non-null  object\n",
      " 4   film           16196 non-null  object\n",
      " 5   winner         16196 non-null  bool  \n",
      " 6   name           16196 non-null  object\n",
      "dtypes: bool(1), int64(3), object(3)\n",
      "memory usage: 901.5+ KB\n"
     ]
    }
   ],
   "source": [
    "oscars.info()"
   ]
  },
  {
   "cell_type": "markdown",
   "id": "9a21021a",
   "metadata": {},
   "source": [
    "## Save new dataset as CSV file"
   ]
  },
  {
   "cell_type": "code",
   "execution_count": 23,
   "id": "c450fba6",
   "metadata": {},
   "outputs": [],
   "source": [
    "oscars.to_csv('oscars_cleaned.csv')"
   ]
  }
 ],
 "metadata": {
  "kernelspec": {
   "display_name": "Python 3 (ipykernel)",
   "language": "python",
   "name": "python3"
  },
  "language_info": {
   "codemirror_mode": {
    "name": "ipython",
    "version": 3
   },
   "file_extension": ".py",
   "mimetype": "text/x-python",
   "name": "python",
   "nbconvert_exporter": "python",
   "pygments_lexer": "ipython3",
   "version": "3.9.16"
  }
 },
 "nbformat": 4,
 "nbformat_minor": 5
}
